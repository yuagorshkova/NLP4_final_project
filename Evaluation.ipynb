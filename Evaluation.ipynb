{
  "cells": [
    {
      "cell_type": "code",
      "source": [
        "!wget https://raw.githubusercontent.com/named-entity/hse-nlp/master/4th_year/Project/dev_cats.txt\n",
        "!wget https://raw.githubusercontent.com/named-entity/hse-nlp/master/4th_year/Project/dev_aspects.txt"
      ],
      "metadata": {
        "colab": {
          "base_uri": "https://localhost:8080/"
        },
        "id": "3xaYsyx40PzZ",
        "outputId": "92e6918f-37e1-49b0-bc89-ad2b409cdd98"
      },
      "id": "3xaYsyx40PzZ",
      "execution_count": 11,
      "outputs": [
        {
          "output_type": "stream",
          "name": "stdout",
          "text": [
            "--2022-12-28 23:24:21--  https://raw.githubusercontent.com/named-entity/hse-nlp/master/4th_year/Project/dev_cats.txt\n",
            "Resolving raw.githubusercontent.com (raw.githubusercontent.com)... 185.199.108.133, 185.199.109.133, 185.199.110.133, ...\n",
            "Connecting to raw.githubusercontent.com (raw.githubusercontent.com)|185.199.108.133|:443... connected.\n",
            "HTTP request sent, awaiting response... 200 OK\n",
            "Length: 7400 (7.2K) [text/plain]\n",
            "Saving to: ‘dev_cats.txt’\n",
            "\n",
            "\rdev_cats.txt          0%[                    ]       0  --.-KB/s               \rdev_cats.txt        100%[===================>]   7.23K  --.-KB/s    in 0s      \n",
            "\n",
            "2022-12-28 23:24:21 (80.8 MB/s) - ‘dev_cats.txt’ saved [7400/7400]\n",
            "\n",
            "--2022-12-28 23:24:21--  https://raw.githubusercontent.com/named-entity/hse-nlp/master/4th_year/Project/dev_aspects.txt\n",
            "Resolving raw.githubusercontent.com (raw.githubusercontent.com)... 185.199.108.133, 185.199.109.133, 185.199.110.133, ...\n",
            "Connecting to raw.githubusercontent.com (raw.githubusercontent.com)|185.199.108.133|:443... connected.\n",
            "HTTP request sent, awaiting response... 200 OK\n",
            "Length: 57508 (56K) [text/plain]\n",
            "Saving to: ‘dev_aspects.txt.1’\n",
            "\n",
            "dev_aspects.txt.1   100%[===================>]  56.16K  --.-KB/s    in 0.008s  \n",
            "\n",
            "2022-12-28 23:24:21 (7.28 MB/s) - ‘dev_aspects.txt.1’ saved [57508/57508]\n",
            "\n"
          ]
        }
      ]
    },
    {
      "cell_type": "code",
      "source": [
        "!wget https://github.com/yuagorshkova/NLP4_final_project/raw/main/dev_aspects_spans_predicted.txt\n",
        "!wget https://github.com/yuagorshkova/NLP4_final_project/raw/main/pred_categories.txt"
      ],
      "metadata": {
        "colab": {
          "base_uri": "https://localhost:8080/"
        },
        "id": "O-_cRpOvWANh",
        "outputId": "99d0c35e-65b9-4848-bfdb-946145d53a1d"
      },
      "id": "O-_cRpOvWANh",
      "execution_count": 1,
      "outputs": [
        {
          "output_type": "stream",
          "name": "stdout",
          "text": [
            "--2022-12-28 23:23:05--  https://github.com/yuagorshkova/NLP4_final_project/raw/main/dev_aspects_spans_predicted.txt\n",
            "Resolving github.com (github.com)... 192.30.255.112\n",
            "Connecting to github.com (github.com)|192.30.255.112|:443... connected.\n",
            "HTTP request sent, awaiting response... 302 Found\n",
            "Location: https://raw.githubusercontent.com/yuagorshkova/NLP4_final_project/main/dev_aspects_spans_predicted.txt [following]\n",
            "--2022-12-28 23:23:06--  https://raw.githubusercontent.com/yuagorshkova/NLP4_final_project/main/dev_aspects_spans_predicted.txt\n",
            "Resolving raw.githubusercontent.com (raw.githubusercontent.com)... 185.199.108.133, 185.199.109.133, 185.199.110.133, ...\n",
            "Connecting to raw.githubusercontent.com (raw.githubusercontent.com)|185.199.108.133|:443... connected.\n",
            "HTTP request sent, awaiting response... 200 OK\n",
            "Length: 46144 (45K) [text/plain]\n",
            "Saving to: ‘dev_aspects_spans_predicted.txt’\n",
            "\n",
            "dev_aspects_spans_p 100%[===================>]  45.06K  --.-KB/s    in 0.007s  \n",
            "\n",
            "2022-12-28 23:23:06 (6.24 MB/s) - ‘dev_aspects_spans_predicted.txt’ saved [46144/46144]\n",
            "\n",
            "--2022-12-28 23:23:06--  https://github.com/yuagorshkova/NLP4_final_project/raw/main/pred_categories.txt\n",
            "Resolving github.com (github.com)... 192.30.255.112\n",
            "Connecting to github.com (github.com)|192.30.255.112|:443... connected.\n",
            "HTTP request sent, awaiting response... 302 Found\n",
            "Location: https://raw.githubusercontent.com/yuagorshkova/NLP4_final_project/main/pred_categories.txt [following]\n",
            "--2022-12-28 23:23:06--  https://raw.githubusercontent.com/yuagorshkova/NLP4_final_project/main/pred_categories.txt\n",
            "Resolving raw.githubusercontent.com (raw.githubusercontent.com)... 185.199.108.133, 185.199.109.133, 185.199.110.133, ...\n",
            "Connecting to raw.githubusercontent.com (raw.githubusercontent.com)|185.199.108.133|:443... connected.\n",
            "HTTP request sent, awaiting response... 200 OK\n",
            "Length: 30288 (30K) [text/plain]\n",
            "Saving to: ‘pred_categories.txt’\n",
            "\n",
            "pred_categories.txt 100%[===================>]  29.58K  --.-KB/s    in 0.001s  \n",
            "\n",
            "2022-12-28 23:23:06 (25.5 MB/s) - ‘pred_categories.txt’ saved [30288/30288]\n",
            "\n"
          ]
        }
      ]
    },
    {
      "cell_type": "code",
      "execution_count": 3,
      "id": "3d42dcf3",
      "metadata": {
        "id": "3d42dcf3"
      },
      "outputs": [],
      "source": [
        "gold_test_path = \"dev_aspects.txt\"\n",
        "pred_test_path = \"dev_aspects_spans_predicted.txt\""
      ]
    },
    {
      "cell_type": "markdown",
      "id": "f8e5a9cd",
      "metadata": {
        "id": "f8e5a9cd"
      },
      "source": [
        "# Оценка 1: accuracy по выделению упоминаний с категориями"
      ]
    },
    {
      "cell_type": "code",
      "execution_count": 5,
      "id": "0c3bf6ae",
      "metadata": {
        "id": "0c3bf6ae"
      },
      "outputs": [],
      "source": [
        "from collections import defaultdict"
      ]
    },
    {
      "cell_type": "code",
      "execution_count": 4,
      "id": "8fb687e6",
      "metadata": {
        "id": "8fb687e6"
      },
      "outputs": [],
      "source": [
        "gold_aspect_cats = {}\n",
        "with open(gold_test_path) as fg:\n",
        "    for line in fg:\n",
        "        line = line.rstrip('\\r\\n').split('\\t')\n",
        "        if line[0] not in gold_aspect_cats:\n",
        "            gold_aspect_cats[line[0]] = {\"starts\":[], \"ends\":[], \"cats\":[], \"sents\":[]}\n",
        "        gold_aspect_cats[line[0]][\"starts\"].append(int(line[3]))\n",
        "        gold_aspect_cats[line[0]][\"ends\"].append(int(line[4]))\n",
        "        gold_aspect_cats[line[0]][\"cats\"].append(line[1])\n",
        "        gold_aspect_cats[line[0]][\"sents\"].append(line[5])"
      ]
    },
    {
      "cell_type": "code",
      "execution_count": 6,
      "id": "72d03788",
      "metadata": {
        "id": "72d03788"
      },
      "outputs": [],
      "source": [
        "full_match, partial_match, full_cat_match, partial_cat_match = 0, 0, 0, 0\n",
        "total = 0\n",
        "fully_matched_pairs = []\n",
        "partially_matched_pairs = []\n",
        "with open(pred_test_path) as fp:\n",
        "    for line in fp:    \n",
        "        total += 1\n",
        "        line = line.rstrip('\\r\\n').split('\\t')\n",
        "        start, end = int(line[2]), int(line[3])\n",
        "        category = line[4]\n",
        "        doc_gold_aspect_cats = gold_aspect_cats[line[0]]\n",
        "        if start in doc_gold_aspect_cats[\"starts\"]:\n",
        "            i = doc_gold_aspect_cats[\"starts\"].index(start)\n",
        "            if doc_gold_aspect_cats[\"ends\"][i] == end:\n",
        "                full_match += 1\n",
        "                if doc_gold_aspect_cats[\"cats\"][i] == category:\n",
        "                    full_cat_match += 1\n",
        "                else:\n",
        "                    partial_cat_match += 1\n",
        "                fully_matched_pairs.append(\n",
        "                    (\n",
        "                        [\n",
        "                            doc_gold_aspect_cats[\"starts\"][i], \n",
        "                            doc_gold_aspect_cats[\"ends\"][i], \n",
        "                            doc_gold_aspect_cats[\"cats\"][i],\n",
        "                            doc_gold_aspect_cats[\"sents\"][i]\n",
        "                        ],\n",
        "                        line\n",
        "                    )\n",
        "                )\n",
        "                continue\n",
        "        for s_pos in doc_gold_aspect_cats[\"starts\"]:\n",
        "            if start <= s_pos:\n",
        "                i = doc_gold_aspect_cats[\"starts\"].index(s_pos)\n",
        "                if doc_gold_aspect_cats[\"ends\"][i] == end:\n",
        "                    partial_match += 1\n",
        "                    partially_matched_pairs.append(\n",
        "                        (\n",
        "                            [\n",
        "                                doc_gold_aspect_cats[\"starts\"][i], \n",
        "                                doc_gold_aspect_cats[\"ends\"][i], \n",
        "                                doc_gold_aspect_cats[\"cats\"][i],\n",
        "                                doc_gold_aspect_cats[\"sents\"][i]\n",
        "                            ],\n",
        "                            line\n",
        "                        )\n",
        "                    )\n",
        "                    if doc_gold_aspect_cats[\"cats\"][i] == category:\n",
        "                        partial_cat_match += 1\n",
        "                    continue\n",
        "                matched = False\n",
        "                for e_pos in doc_gold_aspect_cats[\"ends\"][i:]:\n",
        "                    if s_pos <= end <= e_pos:\n",
        "                        partial_match += 1\n",
        "                        partially_matched_pairs.append(\n",
        "                            (\n",
        "                                [\n",
        "                                    doc_gold_aspect_cats[\"starts\"][i], \n",
        "                                    doc_gold_aspect_cats[\"ends\"][i], \n",
        "                                    doc_gold_aspect_cats[\"cats\"][i],\n",
        "                                    doc_gold_aspect_cats[\"sents\"][i]\n",
        "                                ],\n",
        "                                line\n",
        "                            )\n",
        "                        )\n",
        "                        if doc_gold_aspect_cats[\"cats\"][i] == category:\n",
        "                            partial_cat_match += 1\n",
        "                        matched = True\n",
        "                        break\n",
        "                if matched:\n",
        "                    break\n",
        "            if start > s_pos:\n",
        "                i = doc_gold_aspect_cats[\"starts\"].index(s_pos)\n",
        "                if start < doc_gold_aspect_cats[\"ends\"][i] <= end:\n",
        "                    partial_match += 1\n",
        "                    partially_matched_pairs.append(\n",
        "                        (\n",
        "                            [\n",
        "                                doc_gold_aspect_cats[\"starts\"][i], \n",
        "                                doc_gold_aspect_cats[\"ends\"][i], \n",
        "                                doc_gold_aspect_cats[\"cats\"][i],\n",
        "                                doc_gold_aspect_cats[\"sents\"][i]\n",
        "                            ],\n",
        "                            line\n",
        "                        )\n",
        "                    )\n",
        "                    if doc_gold_aspect_cats[\"cats\"][i] == category:\n",
        "                        partial_cat_match += 1\n",
        "                    break"
      ]
    },
    {
      "cell_type": "code",
      "execution_count": 7,
      "id": "875e62bc",
      "metadata": {
        "id": "875e62bc"
      },
      "outputs": [],
      "source": [
        "gold_size = sum([len(gold_aspect_cats[x][\"cats\"]) for x in gold_aspect_cats])"
      ]
    },
    {
      "cell_type": "code",
      "execution_count": 8,
      "id": "f0140d3a",
      "metadata": {
        "colab": {
          "base_uri": "https://localhost:8080/"
        },
        "id": "f0140d3a",
        "outputId": "b31b11d6-25ae-46d2-d134-e9b33bb0a484"
      },
      "outputs": [
        {
          "output_type": "stream",
          "name": "stdout",
          "text": [
            "\n",
            "Full match precision: 0.9596912521440824\n",
            "Full match recall: 0.9403361344537815\n",
            "Partial match ratio in pred: 0.9639794168096055\n",
            "Full category accuracy: 0.9485420240137221\n",
            "Partial category accuracy: 0.9631217838765008\n",
            "\n"
          ]
        }
      ],
      "source": [
        "print(f\"\"\"\n",
        "Full match precision: {full_match / total}\n",
        "Full match recall: {full_match / gold_size}\n",
        "Partial match ratio in pred: {(full_match + partial_match)  / total}\n",
        "Full category accuracy: {full_cat_match / total}\n",
        "Partial category accuracy: {(full_cat_match + partial_cat_match) / total}\n",
        "\"\"\")\n"
      ]
    },
    {
      "cell_type": "markdown",
      "id": "74fd3833",
      "metadata": {
        "id": "74fd3833"
      },
      "source": [
        "# Оценка 2: accuracy по тональности упоминаний"
      ]
    },
    {
      "cell_type": "code",
      "execution_count": null,
      "id": "af14b470",
      "metadata": {
        "id": "af14b470"
      },
      "outputs": [],
      "source": [
        "def sentiment_accuracy(matches):\n",
        "    matched_sentiment = 0.\n",
        "    for pair in matches:\n",
        "        *_, gold_s = pair[0]\n",
        "        *_, pred_s = pair[1]\n",
        "        if gold_s == pred_s:\n",
        "            matched_sentiment += 1\n",
        "    print(f\"Mention sentiment accuracy: {matched_sentiment / len(matches)}\")"
      ]
    },
    {
      "cell_type": "markdown",
      "id": "b2433a85",
      "metadata": {
        "id": "b2433a85"
      },
      "source": [
        "Accuracy по полностью совпавшим упоминаниям:"
      ]
    },
    {
      "cell_type": "code",
      "execution_count": null,
      "id": "4fb606e7",
      "metadata": {
        "id": "4fb606e7",
        "outputId": "6ac45540-c71d-4a61-a68b-80ac02fcd198"
      },
      "outputs": [
        {
          "name": "stdout",
          "output_type": "stream",
          "text": [
            "Mention sentiment accuracy: 0.6772300469483568\n"
          ]
        }
      ],
      "source": [
        "sentiment_accuracy(fully_matched_pairs)"
      ]
    },
    {
      "cell_type": "markdown",
      "id": "e60cf752",
      "metadata": {
        "id": "e60cf752"
      },
      "source": [
        "Accuracy по частично совпавшим упоминаниям:"
      ]
    },
    {
      "cell_type": "code",
      "execution_count": null,
      "id": "8dd77f7a",
      "metadata": {
        "id": "8dd77f7a",
        "outputId": "42750b3d-0a34-4234-c0e9-5d7c8a5df5d9"
      },
      "outputs": [
        {
          "name": "stdout",
          "output_type": "stream",
          "text": [
            "Mention sentiment accuracy: 0.5720670391061452\n"
          ]
        }
      ],
      "source": [
        "sentiment_accuracy(partially_matched_pairs)"
      ]
    },
    {
      "cell_type": "markdown",
      "id": "a3f284bf",
      "metadata": {
        "id": "a3f284bf"
      },
      "source": [
        "# Оценка 3: accuracy по тональности категории"
      ]
    },
    {
      "cell_type": "code",
      "execution_count": 12,
      "id": "28091f5d",
      "metadata": {
        "id": "28091f5d"
      },
      "outputs": [],
      "source": [
        "gold_test_cats_path = \"dev_cats.txt\"\n",
        "pred_test_cats_path = \"pred_categories.txt\""
      ]
    },
    {
      "cell_type": "code",
      "execution_count": 13,
      "id": "7d8e5502",
      "metadata": {
        "id": "7d8e5502",
        "outputId": "a539b05a-a01d-4874-81fc-b40ea037c0b5",
        "colab": {
          "base_uri": "https://localhost:8080/"
        }
      },
      "outputs": [
        {
          "output_type": "stream",
          "name": "stdout",
          "text": [
            "Overall sentiment accuracy: 0.6647887323943662\n"
          ]
        }
      ],
      "source": [
        "with open(gold_test_cats_path) as gc, open(pred_test_cats_path) as pc:\n",
        "    gold_labels = set(gc.readlines())\n",
        "    pred_labels = set(pc.readlines())\n",
        "    print(\n",
        "        \"Overall sentiment accuracy:\",\n",
        "        len(gold_labels & pred_labels) / len(gold_labels)\n",
        "    )"
      ]
    },
    {
      "cell_type": "code",
      "execution_count": null,
      "id": "24eae125",
      "metadata": {
        "id": "24eae125"
      },
      "outputs": [],
      "source": []
    }
  ],
  "metadata": {
    "kernelspec": {
      "display_name": "Python 3",
      "language": "python",
      "name": "python3"
    },
    "language_info": {
      "codemirror_mode": {
        "name": "ipython",
        "version": 3
      },
      "file_extension": ".py",
      "mimetype": "text/x-python",
      "name": "python",
      "nbconvert_exporter": "python",
      "pygments_lexer": "ipython3",
      "version": "3.9.4"
    },
    "colab": {
      "provenance": []
    }
  },
  "nbformat": 4,
  "nbformat_minor": 5
}